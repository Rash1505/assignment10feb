{
 "cells": [
  {
   "cell_type": "markdown",
   "id": "038c52c8-dbd8-4f42-b288-307e1e248c4a",
   "metadata": {},
   "source": [
    "Q1. which function is used to open a file? what are the different modes of opening "
   ]
  },
  {
   "cell_type": "markdown",
   "id": "1d543e3d-51fe-4311-8d39-1a7c2868dce3",
   "metadata": {},
   "source": [
    "'w' function is used to open file in write mode\n",
    "\n",
    "'r'  function is used to open file in read mode\n",
    "\n",
    "'a' function is used to open file in append mode"
   ]
  },
  {
   "cell_type": "markdown",
   "id": "e4937a4a-9d6f-487f-a21d-08b9dfae49fc",
   "metadata": {},
   "source": [
    "Q2. why close() function in used? why is it important to close a file?"
   ]
  },
  {
   "cell_type": "markdown",
   "id": "b1229c0c-bf2e-4e6a-98c2-946ec3d5e5d7",
   "metadata": {},
   "source": [
    "The 'close()' function is used to close a file which opened for reading or writing.\n",
    "It is an important function because when a file is opened it consumes alot memory and if we don't closed a file\n",
    "our resources will continue to be used even if we are not using the file this can causes memory leak.\n",
    "the 'close()' function help us to improve our programm and prevent resource releated isuues.\n"
   ]
  },
  {
   "cell_type": "markdown",
   "id": "e33e9238-adde-4d05-854a-7b5ca2c3de7e",
   "metadata": {},
   "source": [
    "Q3. Write a python program to create a text file. write ' I want to become a Data Scientist' in that file.\n",
    "    Then close the file. Open this file and read the content of the file."
   ]
  },
  {
   "cell_type": "code",
   "execution_count": 1,
   "id": "f3b8ded1-530f-4b3c-a9f1-e2d6b76695b4",
   "metadata": {},
   "outputs": [],
   "source": [
    "f = open('text10.txt','w')"
   ]
  },
  {
   "cell_type": "code",
   "execution_count": 2,
   "id": "df4bfe58-d2eb-4ba3-a9a3-bc2ded1ae427",
   "metadata": {},
   "outputs": [
    {
     "data": {
      "text/plain": [
       "33"
      ]
     },
     "execution_count": 2,
     "metadata": {},
     "output_type": "execute_result"
    }
   ],
   "source": [
    "f.write('I want to become a Data Scientist')"
   ]
  },
  {
   "cell_type": "code",
   "execution_count": 3,
   "id": "51878182-1124-4f0f-bff2-f8ab48c4cde4",
   "metadata": {},
   "outputs": [],
   "source": [
    "f.close()"
   ]
  },
  {
   "cell_type": "code",
   "execution_count": 7,
   "id": "96353183-8080-4b5b-a772-4960733b254d",
   "metadata": {},
   "outputs": [],
   "source": [
    "f= open('text10.txt','r')"
   ]
  },
  {
   "cell_type": "code",
   "execution_count": 9,
   "id": "69e6dbae-8982-4279-85b3-0c0971930066",
   "metadata": {},
   "outputs": [
    {
     "data": {
      "text/plain": [
       "'I want to become a Data ScientistI want to become a Data Scientist'"
      ]
     },
     "execution_count": 9,
     "metadata": {},
     "output_type": "execute_result"
    }
   ],
   "source": [
    "f.read()"
   ]
  },
  {
   "cell_type": "markdown",
   "id": "3304a96a-ffc8-484a-a079-19837ef1dd32",
   "metadata": {},
   "source": [
    "Q4. Explain the following with python code : read(), readline(), and readlines()."
   ]
  },
  {
   "cell_type": "markdown",
   "id": "7b6715ce-8f19-4605-9e89-52307258872d",
   "metadata": {},
   "source": [
    "'read()' It is a in-built function in python which read the  entire file and returns its contents as string."
   ]
  },
  {
   "cell_type": "code",
   "execution_count": 10,
   "id": "784eb457-61e4-45c4-b017-b4f2ac31597e",
   "metadata": {},
   "outputs": [],
   "source": [
    "f = open('text10.txt','r')"
   ]
  },
  {
   "cell_type": "code",
   "execution_count": 11,
   "id": "b6b82ac3-cfa5-4836-b65f-e39d358f3979",
   "metadata": {},
   "outputs": [
    {
     "data": {
      "text/plain": [
       "'I want to become a Data ScientistI want to become a Data Scientist'"
      ]
     },
     "execution_count": 11,
     "metadata": {},
     "output_type": "execute_result"
    }
   ],
   "source": [
    "f.read()"
   ]
  },
  {
   "cell_type": "markdown",
   "id": "c789783b-4663-4b76-bdac-1ddbfff236bf",
   "metadata": {},
   "source": [
    "'readline()' it is also a in-built function in python. it is used to read a single line that opened in read mode\n",
    "and returns the line as string including newline character at the end of the line."
   ]
  },
  {
   "cell_type": "code",
   "execution_count": 13,
   "id": "374f5608-c877-4344-852f-3f933715fad5",
   "metadata": {},
   "outputs": [
    {
     "data": {
      "text/plain": [
       "''"
      ]
     },
     "execution_count": 13,
     "metadata": {},
     "output_type": "execute_result"
    }
   ],
   "source": [
    "f.readline()"
   ]
  },
  {
   "cell_type": "code",
   "execution_count": 15,
   "id": "fab0b949-2c16-4595-9ed4-1eb201948037",
   "metadata": {},
   "outputs": [
    {
     "data": {
      "text/plain": [
       "1"
      ]
     },
     "execution_count": 15,
     "metadata": {},
     "output_type": "execute_result"
    }
   ],
   "source": [
    "f.seek(1)"
   ]
  },
  {
   "cell_type": "code",
   "execution_count": 16,
   "id": "e30b929e-030d-400d-ad31-41a0d42d9d25",
   "metadata": {},
   "outputs": [
    {
     "data": {
      "text/plain": [
       "' want to become a Data ScientistI want to become a Data Scientist'"
      ]
     },
     "execution_count": 16,
     "metadata": {},
     "output_type": "execute_result"
    }
   ],
   "source": [
    "f.readline()"
   ]
  },
  {
   "cell_type": "markdown",
   "id": "27d8f051-6509-479e-94e2-3f92caa1bb2a",
   "metadata": {},
   "source": [
    "'readlines()' it is used to read all the lines in file and return it as a list of string. it is also opened in read mode"
   ]
  },
  {
   "cell_type": "code",
   "execution_count": 21,
   "id": "6d1d0bc9-5a0f-468d-be78-f00f3d546ab6",
   "metadata": {},
   "outputs": [],
   "source": [
    "l=f.readlines()"
   ]
  },
  {
   "cell_type": "code",
   "execution_count": 22,
   "id": "f50fbf0a-1b71-490e-9b3e-2b56c60581b0",
   "metadata": {},
   "outputs": [],
   "source": [
    "for i in l:\n",
    "    print(i)"
   ]
  },
  {
   "cell_type": "code",
   "execution_count": 23,
   "id": "6a940a1e-71ee-4088-9ffb-ad4644f9002d",
   "metadata": {},
   "outputs": [
    {
     "data": {
      "text/plain": [
       "[]"
      ]
     },
     "execution_count": 23,
     "metadata": {},
     "output_type": "execute_result"
    }
   ],
   "source": [
    "l"
   ]
  },
  {
   "cell_type": "markdown",
   "id": "aa45c48d-d699-46db-9618-be02e8b5fc3d",
   "metadata": {},
   "source": [
    "Q5. Explain why with statement is used with open(). What is the advantage of using with statement and open() together"
   ]
  },
  {
   "cell_type": "markdown",
   "id": "40ff21b9-02c6-4c64-93da-50a0bfc54d16",
   "metadata": {},
   "source": [
    "'with' statment is used to ensure that a file is properly closed after used. when it is used with 'open()' function it allows \n",
    "us to open a file , perform operation on it and closed the file when the code is completed .it is the advantage of using with \n",
    "statement and open() function together.\n",
    "\n"
   ]
  },
  {
   "cell_type": "markdown",
   "id": "76792fed-a519-4b41-a66a-1e8d7b92aec9",
   "metadata": {},
   "source": [
    "Q6, Explain the write() and writelines() functions. Give a suitable example"
   ]
  },
  {
   "cell_type": "markdown",
   "id": "6f01b9f8-7008-48af-8123-acf8ac0e87ad",
   "metadata": {},
   "source": [
    "'write()' : it is used to write data inside a file. It is normally used with open() function which is used to open a file in\n",
    "write mode\n",
    "\n",
    "'writelines()' function is used to write a sequence of strings to a file. it is similar to 'write()'function\n",
    "but it can be used to a multiple lines of texts to file at once."
   ]
  },
  {
   "cell_type": "markdown",
   "id": "12bc65fd-1840-459c-a709-7e1e555256eb",
   "metadata": {},
   "source": [
    "example of write() and wri"
   ]
  },
  {
   "cell_type": "code",
   "execution_count": 7,
   "id": "76f3d6c4-a3bf-4055-9fcd-c3f0fc9866ec",
   "metadata": {},
   "outputs": [
    {
     "data": {
      "text/plain": [
       "16"
      ]
     },
     "execution_count": 7,
     "metadata": {},
     "output_type": "execute_result"
    }
   ],
   "source": [
    "f= open('test4.txt','w')\n",
    "\n",
    "f.write('this is my test4')"
   ]
  },
  {
   "cell_type": "code",
   "execution_count": null,
   "id": "a38b0563-3f3a-4150-ac7e-ce1d9116dd40",
   "metadata": {},
   "outputs": [],
   "source": [
    "f.writelines()    "
   ]
  },
  {
   "cell_type": "code",
   "execution_count": 9,
   "id": "569c25aa-4f76-4c65-a024-2c6c03d8fb63",
   "metadata": {},
   "outputs": [],
   "source": [
    "f.close()"
   ]
  },
  {
   "cell_type": "markdown",
   "id": "0014998b-7746-40f2-a3cb-c5bcff58c00e",
   "metadata": {},
   "source": [
    "'writelines()' function is used to write a sequence of strings to a file. it is similar to 'write()'function\n",
    "but it can be used to a multiple lines of texts to file at once."
   ]
  },
  {
   "cell_type": "markdown",
   "id": "80bfd287-2b46-4bfd-b4b2-acf1bd2374bc",
   "metadata": {},
   "source": [
    "example of writelines()"
   ]
  },
  {
   "cell_type": "code",
   "execution_count": null,
   "id": "2b6d235d-bdd8-4679-bfc5-f6c62a1de533",
   "metadata": {},
   "outputs": [],
   "source": []
  }
 ],
 "metadata": {
  "kernelspec": {
   "display_name": "Python 3 (ipykernel)",
   "language": "python",
   "name": "python3"
  },
  "language_info": {
   "codemirror_mode": {
    "name": "ipython",
    "version": 3
   },
   "file_extension": ".py",
   "mimetype": "text/x-python",
   "name": "python",
   "nbconvert_exporter": "python",
   "pygments_lexer": "ipython3",
   "version": "3.10.8"
  }
 },
 "nbformat": 4,
 "nbformat_minor": 5
}
